{
 "cells": [
  {
   "cell_type": "code",
   "execution_count": 4,
   "metadata": {},
   "outputs": [],
   "source": [
    "import pandas as pd\n",
    "import numpy as np\n",
    "import cv2\n",
    "import matplotlib.pyplot as plt\n",
    "from glob import glob\n",
    "import IPython.display as ipd\n",
    "from tqdm import tqdm\n",
    "import subprocess\n",
    "plt.style.use('ggplot')\n",
    "import os"
   ]
  },
  {
   "cell_type": "code",
   "execution_count": null,
   "metadata": {},
   "outputs": [],
   "source": [
    "directory = 'aicity2023_track5/train_images'\n",
    "\n",
    "for i in range(1,8):\n",
    "    path = os.path.join(directory, str(i))\n",
    "    os.mkdir(path)"
   ]
  },
  {
   "cell_type": "code",
   "execution_count": null,
   "metadata": {},
   "outputs": [],
   "source": [
    "directory = 'aicity2023_track5'\n",
    "valid_dir = os.path.join(directory, 'valid/images')\n",
    "train_dir = os.path.join(directory, 'train/images')\n",
    "valid_img_dir = os.path.join(directory, 'valid_images')\n",
    "train_img_dir = os.path.join(directory, 'train_images')\n",
    "\n",
    "with open(\"aicity2023_track5/gt.txt\", \"r\") as filestream:\n",
    "    for line in filestream:\n",
    "        gt = line.strip().split(\",\")\n",
    "        frame_img =  gt[0]+ '_' + gt[1] +'.jpg'\n",
    "\n",
    "        # Train images are from video 1-80, validation images are from images 81-90\n",
    "        if(int(gt[0]) <= 80):\n",
    "            frame_dir = train_dir\n",
    "            images_dir = train_img_dir\n",
    "\n",
    "        elif(80 < int(gt[0]) <= 90):\n",
    "            frame_dir = valid_dir\n",
    "            images_dir = valid_img_dir\n",
    "        \n",
    "        if(os.path.exists(os.path.join(frame_dir, frame_img))):\n",
    "\n",
    "            img = cv2.imread(os.path.join(frame_dir, frame_img))\n",
    "            x = int(gt[3])\n",
    "            y = int(gt[4])\n",
    "            width = int(gt[5])\n",
    "            height = int(gt[6])\n",
    "            obj_class = gt[7]\n",
    "\n",
    "            #crop image based on the coordinates\n",
    "            crop_img = img[y:y+height, x:x+width]\n",
    "            # save in correct class folder\n",
    "            destination = os.path.join(train_img_dir, obj_class) \n",
    "            destination = os.path.join(destination, gt[0]+ '_' + gt[1] + '.jpg') \n",
    "            cv2.imwrite(destination, crop_img)\n"
   ]
  }
 ],
 "metadata": {
  "interpreter": {
   "hash": "0ecc5173e59f86e4f06b6e4f247af3666d8e121b00fcf891f2eafc4325052d6e"
  },
  "kernelspec": {
   "display_name": "Python 3.9.13 ('base')",
   "language": "python",
   "name": "python3"
  },
  "language_info": {
   "codemirror_mode": {
    "name": "ipython",
    "version": 3
   },
   "file_extension": ".py",
   "mimetype": "text/x-python",
   "name": "python",
   "nbconvert_exporter": "python",
   "pygments_lexer": "ipython3",
   "version": "3.9.13"
  },
  "orig_nbformat": 4
 },
 "nbformat": 4,
 "nbformat_minor": 2
}
