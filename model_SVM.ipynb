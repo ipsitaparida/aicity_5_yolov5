{
  "nbformat": 4,
  "nbformat_minor": 0,
  "metadata": {
    "colab": {
      "provenance": []
    },
    "kernelspec": {
      "name": "python3",
      "display_name": "Python 3"
    },
    "language_info": {
      "name": "python"
    },
    "accelerator": "GPU",
    "gpuClass": "standard"
  },
  "cells": [
    {
      "cell_type": "code",
      "source": [
        "!gdown 1AeOPro_4iCnbQcIPlZj6p5ko8gOy6LGa\n",
        "!unzip train_images.zip"
      ],
      "metadata": {
        "id": "_BE222OqgyGb"
      },
      "execution_count": null,
      "outputs": []
    },
    {
      "cell_type": "code",
      "execution_count": 1,
      "metadata": {
        "id": "q5okng2EgWYc"
      },
      "outputs": [],
      "source": [
        "# Import necessary libraries\n",
        "from sklearn import svm\n",
        "from sklearn.metrics import accuracy_score\n",
        "from sklearn.model_selection import train_test_split\n",
        "from sklearn.preprocessing import LabelEncoder\n",
        "import numpy as np\n",
        "import os\n",
        "import cv2\n",
        "import random\n",
        "import time\n",
        "from imutils import paths\n",
        "\n",
        "SEED = 42"
      ]
    },
    {
      "cell_type": "code",
      "source": [
        "print(\"loading images...\")\n",
        "time1 = time.time()   # to measure time taken\n",
        "data = []\n",
        "labels = []\n",
        "\n",
        "# grab the image paths and randomly shuffle them\n",
        "imagePaths = sorted(list(paths.list_images('train_images')))   # data folder with 3 categorical folders\n",
        "random.seed(SEED)\n",
        "random.shuffle(imagePaths)"
      ],
      "metadata": {
        "colab": {
          "base_uri": "https://localhost:8080/"
        },
        "id": "roSJynoRhEU8",
        "outputId": "de3cf55c-5952-4826-c225-adb4c06b3635"
      },
      "execution_count": 2,
      "outputs": [
        {
          "output_type": "stream",
          "name": "stdout",
          "text": [
            "loading images...\n"
          ]
        }
      ]
    },
    {
      "cell_type": "code",
      "source": [
        "# loop over the input images\n",
        "for imagePath in imagePaths:\n",
        "    # load the image, resize the image to be 32x32 pixels (ignoring aspect ratio), \n",
        "    # flatten the 32x32x3=3072 pixel image into a list, and store the image in the data list\n",
        "    image = cv2.imread(imagePath)\n",
        "    image = cv2.resize(image, (32, 32)).flatten()\n",
        "    data.append(image)\n",
        " \n",
        "    # extract the class label from the image path and update the labels list\n",
        "    label = imagePath.split(os.path.sep)[-2]\n",
        "    labels.append(label)\n",
        "\n",
        "# scale the raw pixel intensities to the range [0, 1]\n",
        "data = np.array(data, dtype=\"float\") / 255.0\n",
        "labels = np.array(labels)\n",
        "\n",
        "print('Time taken: {:.1f} seconds'.format(time.time() - time1))   # to measure time taken\n",
        "print(\"done\")"
      ],
      "metadata": {
        "colab": {
          "base_uri": "https://localhost:8080/"
        },
        "id": "nXmAN-UkhIdV",
        "outputId": "cb8cd627-f23d-4dbe-8ebe-4c265d3c5695"
      },
      "execution_count": 3,
      "outputs": [
        {
          "output_type": "stream",
          "name": "stdout",
          "text": [
            "Time taken: 12.4 seconds\n",
            "done\n"
          ]
        }
      ]
    },
    {
      "cell_type": "code",
      "source": [
        "# Encode the labels\n",
        "le = LabelEncoder()\n",
        "y = le.fit_transform(labels)\n",
        "\n",
        "# Split the data into training and testing sets\n",
        "X_train, X_test, y_train, y_test = train_test_split(data, y, test_size=0.2, random_state=SEED)"
      ],
      "metadata": {
        "id": "B_pAicqah5-c"
      },
      "execution_count": 4,
      "outputs": []
    },
    {
      "cell_type": "code",
      "source": [
        "X_train.shape"
      ],
      "metadata": {
        "colab": {
          "base_uri": "https://localhost:8080/"
        },
        "id": "9s_LloTd1VrD",
        "outputId": "c40e6e25-fd9e-4b4e-8ea4-781b71a435b5"
      },
      "execution_count": 5,
      "outputs": [
        {
          "output_type": "execute_result",
          "data": {
            "text/plain": [
              "(26049, 3072)"
            ]
          },
          "metadata": {},
          "execution_count": 5
        }
      ]
    },
    {
      "cell_type": "code",
      "source": [
        "# Define the SVM classifier\n",
        "clf = svm.SVC(kernel='rbf')\n",
        "\n",
        "# Fit the SVM classifier\n",
        "model = clf.fit(X_train, y_train)"
      ],
      "metadata": {
        "id": "eCXXjmRqg0uV"
      },
      "execution_count": 6,
      "outputs": []
    },
    {
      "cell_type": "code",
      "source": [
        "# Make predictions on the testing data\n",
        "y_pred = clf.predict(X_test)\n",
        "\n",
        "# Calculate the accuracy score\n",
        "accuracy = accuracy_score(y_test, y_pred)\n",
        "\n",
        "print('Accuracy: {:.2f}%'.format(accuracy*100))"
      ],
      "metadata": {
        "colab": {
          "base_uri": "https://localhost:8080/"
        },
        "id": "NDV0EePW0K1o",
        "outputId": "0b1df867-c5e5-4bf6-c326-6ef5a9be5286"
      },
      "execution_count": 7,
      "outputs": [
        {
          "output_type": "stream",
          "name": "stdout",
          "text": [
            "Accuracy: 91.52%\n"
          ]
        }
      ]
    },
    {
      "cell_type": "code",
      "source": [
        "model.get_params()\n",
        "model.support_vectors_.shape"
      ],
      "metadata": {
        "colab": {
          "base_uri": "https://localhost:8080/"
        },
        "id": "fbSE4pBX7PUj",
        "outputId": "33b8ee34-8ee3-453e-8997-554160d7c08c"
      },
      "execution_count": 11,
      "outputs": [
        {
          "output_type": "execute_result",
          "data": {
            "text/plain": [
              "(14419, 3072)"
            ]
          },
          "metadata": {},
          "execution_count": 11
        }
      ]
    }
  ]
}