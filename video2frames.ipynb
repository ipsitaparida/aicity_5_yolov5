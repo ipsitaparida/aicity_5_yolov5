{
  "cells": [
    {
      "cell_type": "code",
      "execution_count": 7,
      "metadata": {
        "id": "D9OFz3MseoTO"
      },
      "outputs": [],
      "source": [
        "import pandas as pd\n",
        "import numpy as np\n",
        "import cv2\n",
        "import matplotlib.pyplot as plt\n",
        "\n",
        "from glob import glob\n",
        "\n",
        "import IPython.display as ipd\n",
        "from tqdm import tqdm\n",
        "\n",
        "import subprocess\n",
        "\n",
        "plt.style.use('ggplot')\n",
        "import os"
      ]
    },
    {
      "cell_type": "code",
      "execution_count": null,
      "metadata": {},
      "outputs": [],
      "source": [
        "directory = 'aicity2023_track5/videos'\n",
        "dir_train_img = 'aicity2023_track5/images'\n",
        "for filename in os.listdir(directory):\n",
        "    f = os.path.join(directory, filename)\n",
        "    # checking if it is a file\n",
        "    if os.path.isfile(f):\n",
        "        print(f)\n",
        "        cap = cv2.VideoCapture(f)\n",
        "        # Total number of frames in video\n",
        "        n_frames= int(cap.get(cv2.CAP_PROP_FRAME_COUNT)) \n",
        "        # Get frames per second\n",
        "        fps = cap.get(cv2.CAP_PROP_FPS)\n",
        "\n",
        "        count=1\n",
        "        for frame in range(n_frames):\n",
        "            ret, img = cap.read()\n",
        "            if ret == False:\n",
        "                break\n",
        "            #  save images \n",
        "            suff= os.path.splitext(filename)[0]\n",
        "            fname = str(int(suff))+'_' + str(count)+'.jpg'\n",
        "            cv2.imwrite(os.path.join(dir_train_img , fname), img)   \n",
        "\n",
        "            count += 1\n",
        "        cap.release()"
      ]
    },
    {
      "cell_type": "code",
      "execution_count": 59,
      "metadata": {},
      "outputs": [],
      "source": [
        "width = 1920\n",
        "height = 1080\n",
        "dir_train_labels = 'aicity2023_track5/labels'\n",
        "with open(\"aicity2023_track5/gt.txt\", \"r\") as filestream:\n",
        "    for line in filestream:\n",
        "        curr = line.strip().split(\",\")\n",
        "        lname =  curr[0]+ '_' + curr[1] + '.txt'\n",
        "\n",
        "        with open(os.path.join(dir_train_labels , lname), \"a\") as filestreamtwo:\n",
        "            filestreamtwo.write(f\"{int(curr[7]) -1} {float(curr[3])/width} {float(curr[4])/height} {float(curr[5])/width} {float(curr[6])/height}\\n\")"
      ]
    }
  ],
  "metadata": {
    "accelerator": "GPU",
    "colab": {
      "provenance": []
    },
    "gpuClass": "standard",
    "kernelspec": {
      "display_name": "Python 3",
      "name": "python3"
    },
    "language_info": {
      "codemirror_mode": {
        "name": "ipython",
        "version": 3
      },
      "file_extension": ".py",
      "mimetype": "text/x-python",
      "name": "python",
      "nbconvert_exporter": "python",
      "pygments_lexer": "ipython3",
      "version": "3.9.13"
    }
  },
  "nbformat": 4,
  "nbformat_minor": 0
}
